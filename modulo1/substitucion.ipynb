{
 "cells": [
  {
   "cell_type": "code",
   "execution_count": null,
   "id": "4c3c760b",
   "metadata": {},
   "outputs": [],
   "source": [
    "key = input('Escriba la línea de comando: ').lower()\n",
    "\n",
    "cipherTexto = str \n",
    "\n",
    "for i in key:\n",
    "    if key.count(i) != 1:\n",
    "        print ('hay caracteres que se repiten')\n",
    "        print('ciphertexto = 1')\n",
    "        break\n",
    "    \n",
    "if len(key)!= 26:\n",
    "    print('cantidad incorrecta de caracteres')\n",
    "    print('ciphertexto = 1')\n",
    "    \n",
    "\n",
    "elif key.isalpha() is False:\n",
    "    print('Existe dígitos que no son letras')\n",
    "    print('ciphertexto = 1')\n",
    "    \n",
    "else:\n",
    "    cipherTexto == key\n",
    "    plaintexto = input('escriba su mensaje: ')\n",
    "    for m in cipherTexto:\n",
    "        for t in range(0,len(key)):\n",
    "            key[t] == m\n",
    "            plaintexto += cipherTexto\n",
    " \n",
    "print (cipherTexto)"
   ]
  }
 ],
 "metadata": {
  "kernelspec": {
   "display_name": "Python 3",
   "language": "python",
   "name": "python3"
  },
  "language_info": {
   "codemirror_mode": {
    "name": "ipython",
    "version": 3
   },
   "file_extension": ".py",
   "mimetype": "text/x-python",
   "name": "python",
   "nbconvert_exporter": "python",
   "pygments_lexer": "ipython3",
   "version": "3.8.5"
  }
 },
 "nbformat": 4,
 "nbformat_minor": 5
}
