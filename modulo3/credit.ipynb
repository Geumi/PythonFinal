{
 "cells": [
  {
   "cell_type": "code",
   "execution_count": 2,
   "id": "da9bd41a",
   "metadata": {},
   "outputs": [
    {
     "name": "stdout",
     "output_type": "stream",
     "text": [
      "Ingrese el número de tarjeta junto y sin guiones\n",
      "ingrese un número de tarjeta de crédito: 5105105105105100\n",
      "Tarjeta Mastercard válida\n"
     ]
    }
   ],
   "source": [
    "\n",
    "print ('Ingrese el número de tarjeta junto y sin guiones')\n",
    "tarjeta =input ('ingrese un número de tarjeta de crédito: ')\n",
    "\n",
    "listarj = list(tarjeta)\n",
    "\n",
    "listarjnum = []\n",
    "for i in listarj:\n",
    "    listarjnum.append(int(i))\n",
    "\n",
    "#print(listarjnum) #comprobación\n",
    "n = len(listarjnum)\n",
    "por2 = []\n",
    "\n",
    "#numeros multiplicados por 2\n",
    "for j in range(-2,-n-1,-2):        \n",
    "    por2.append(listarjnum[j]*2)\n",
    "#print(por2) #comprobación\n",
    "\n",
    "strpor2 = ''.join(map(str,por2)) #juntar los numeros para tener los digitos por separado\n",
    "#print(strpor2) #comprobación\n",
    "\n",
    "listforsum = []\n",
    "for t in strpor2:\n",
    "    listforsum.append(int(t))\n",
    "#print(listforsum) #comprobación\n",
    "\n",
    "#suma de los multiplicados por 2\n",
    "#print(sum(listforsum)) #comprobación\n",
    "\n",
    "#lista de los num restantes\n",
    "listno2 = []\n",
    "for x in range(-1,-n-1,-2):        \n",
    "    listno2.append(listarjnum[x])\n",
    "#print(listno2) #comprobación\n",
    "\n",
    "sumatotal = sum(listforsum)+sum(listno2)\n",
    "#print(sumatotal) #comprobación\n",
    "\n",
    "strsumtotal = str(sumatotal)\n",
    "listsumatotal = list(strsumtotal)\n",
    "#print(listsumatotal) #comprobación\n",
    "\n",
    "\n",
    "if listsumatotal[-1] == '0':\n",
    "    \n",
    "    if listarjnum[0] ==3 and listarjnum[1] ==4:\n",
    "        print('Tarjeta American Express válida')\n",
    "    elif listarjnum[0] ==3 and listarjnum[1] ==7:\n",
    "        print('Tarjeta American Express válida')\n",
    "    elif listarjnum[0] ==5 and listarjnum[1] ==1:\n",
    "        print('Tarjeta Mastercard válida')\n",
    "    elif listarjnum[0] ==5 and listarjnum[1] ==2:\n",
    "        print('Tarjeta Mastercard válida')\n",
    "    elif listarjnum[0] ==5 and listarjnum[1] ==3:\n",
    "        print('Tarjeta Mastercard válida')\n",
    "    elif listarjnum[0] ==5 and listarjnum[1] ==4:\n",
    "        print('Tarjeta Mastercard válida')\n",
    "    elif listarjnum[0] ==5 and listarjnum[1] ==5:\n",
    "        print('Tarjeta Mastercard válida')\n",
    "    elif listarjnum[0] ==4 : \n",
    "        print('Tarjeta Visa válida')\n",
    "    else:\n",
    "        print ('otro tipo de tarjeta válida')\n",
    "else: \n",
    "    print('Tarjeta inválida')\n"
   ]
  },
  {
   "cell_type": "code",
   "execution_count": null,
   "id": "ec02a3bc",
   "metadata": {},
   "outputs": [],
   "source": []
  }
 ],
 "metadata": {
  "kernelspec": {
   "display_name": "Python 3",
   "language": "python",
   "name": "python3"
  },
  "language_info": {
   "codemirror_mode": {
    "name": "ipython",
    "version": 3
   },
   "file_extension": ".py",
   "mimetype": "text/x-python",
   "name": "python",
   "nbconvert_exporter": "python",
   "pygments_lexer": "ipython3",
   "version": "3.8.5"
  }
 },
 "nbformat": 4,
 "nbformat_minor": 5
}
