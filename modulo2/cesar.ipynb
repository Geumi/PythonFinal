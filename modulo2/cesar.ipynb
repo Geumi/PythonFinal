{
 "cells": [
  {
   "cell_type": "code",
   "execution_count": null,
   "id": "c4a66e48",
   "metadata": {},
   "outputs": [],
   "source": [
    "texto = input('ingrese su texto a cifrar: ')\n",
    "\n",
    "if texto == texto.upper(): \n",
    "    tex = 'ABCDEFGHIJKLMNOPQRSTUVWXYZ'\n",
    "else:\n",
    "    tex = 'abcdefghijklmnopqrstuvwxyz'\n",
    "\n",
    "valor = int (input('Ingrese el valor de desplazamiento: '))\n",
    "\n",
    "textocifrado = ''\n",
    "\n",
    "for i in texto:\n",
    "    if i in tex:\n",
    "        textocifrado += tex[(tex.index(i)+valor )%len(tex)]\n",
    "    else:\n",
    "        textocifrado += i \n",
    "\n",
    "print ('El texto cifrado es: ',textocifrado)"
   ]
  }
 ],
 "metadata": {
  "kernelspec": {
   "display_name": "Python 3",
   "language": "python",
   "name": "python3"
  },
  "language_info": {
   "codemirror_mode": {
    "name": "ipython",
    "version": 3
   },
   "file_extension": ".py",
   "mimetype": "text/x-python",
   "name": "python",
   "nbconvert_exporter": "python",
   "pygments_lexer": "ipython3",
   "version": "3.8.5"
  }
 },
 "nbformat": 4,
 "nbformat_minor": 5
}
