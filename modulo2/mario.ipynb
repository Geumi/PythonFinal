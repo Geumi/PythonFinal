{
 "cells": [
  {
   "cell_type": "code",
   "execution_count": 2,
   "id": "4b46dc3d",
   "metadata": {},
   "outputs": [
    {
     "name": "stdout",
     "output_type": "stream",
     "text": [
      "Ingrese la altura de la pirámide: 45\n",
      "Número inválido, se permite desde el 1 al 8\n",
      "Ingrese la altura de la pirámide: 6\n",
      "      #\n",
      "     ##\n",
      "    ###\n",
      "   ####\n",
      "  #####\n",
      " ######\n"
     ]
    }
   ],
   "source": [
    "while True:\n",
    "    altura = input('Ingrese la altura de la pirámide: ')\n",
    "\n",
    "    if altura.isalpha() is True:\n",
    "        print('No se permite letras')\n",
    "        continue\n",
    "    elif altura == '':\n",
    "        print('Digite un número válido')\n",
    "    elif int(altura) <=0:\n",
    "        print('Número inválido, se permiten positivos desde el 1 al 8')\n",
    "        continue\n",
    "    elif int(altura) > 8: \n",
    "        print('Número inválido, se permite desde el 1 al 8')\n",
    "        continue\n",
    "    \n",
    "    else:\n",
    "        altura = int(altura)\n",
    "        for i in range(1,altura+1):\n",
    "            print(' '*(altura-i),'#'*i)\n",
    "        break"
   ]
  },
  {
   "cell_type": "code",
   "execution_count": null,
   "id": "499fcbd4",
   "metadata": {},
   "outputs": [],
   "source": []
  }
 ],
 "metadata": {
  "kernelspec": {
   "display_name": "Python 3",
   "language": "python",
   "name": "python3"
  },
  "language_info": {
   "codemirror_mode": {
    "name": "ipython",
    "version": 3
   },
   "file_extension": ".py",
   "mimetype": "text/x-python",
   "name": "python",
   "nbconvert_exporter": "python",
   "pygments_lexer": "ipython3",
   "version": "3.8.5"
  }
 },
 "nbformat": 4,
 "nbformat_minor": 5
}
